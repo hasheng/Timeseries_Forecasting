{
 "cells": [
  {
   "cell_type": "code",
   "execution_count": 1,
   "id": "37d64400-d15b-4a3a-98da-5d15237a4d28",
   "metadata": {},
   "outputs": [
    {
     "name": "stderr",
     "output_type": "stream",
     "text": [
      "/usr/local/Caskroom/miniforge/base/envs/lhl/lib/python3.8/site-packages/xgboost/compat.py:36: FutureWarning: pandas.Int64Index is deprecated and will be removed from pandas in a future version. Use pandas.Index with the appropriate dtype instead.\n",
      "  from pandas import MultiIndex, Int64Index\n"
     ]
    }
   ],
   "source": [
    "from xgboost import XGBRegressor\n",
    "import pandas as pd\n",
    "import numpy as np\n",
    "from sklearn.model_selection import train_test_split\n",
    "import matplotlib.pyplot as plt"
   ]
  },
  {
   "cell_type": "code",
   "execution_count": 2,
   "id": "7520254a-b021-4e01-9e72-73338913b2b3",
   "metadata": {},
   "outputs": [
    {
     "data": {
      "text/html": [
       "<div>\n",
       "<style scoped>\n",
       "    .dataframe tbody tr th:only-of-type {\n",
       "        vertical-align: middle;\n",
       "    }\n",
       "\n",
       "    .dataframe tbody tr th {\n",
       "        vertical-align: top;\n",
       "    }\n",
       "\n",
       "    .dataframe thead th {\n",
       "        text-align: right;\n",
       "    }\n",
       "</style>\n",
       "<table border=\"1\" class=\"dataframe\">\n",
       "  <thead>\n",
       "    <tr style=\"text-align: right;\">\n",
       "      <th></th>\n",
       "      <th>Interval</th>\n",
       "      <th>Timestamp</th>\n",
       "      <th>Flume Depth (mm)</th>\n",
       "      <th>Flume Flow (L/s)</th>\n",
       "      <th>Precipitation (mm)</th>\n",
       "      <th>AV Flow (L/s)</th>\n",
       "    </tr>\n",
       "  </thead>\n",
       "  <tbody>\n",
       "    <tr>\n",
       "      <th>1</th>\n",
       "      <td>15 Min</td>\n",
       "      <td>2021-04-01 0:15</td>\n",
       "      <td>14.16</td>\n",
       "      <td>0.22</td>\n",
       "      <td>0</td>\n",
       "      <td>0.4</td>\n",
       "    </tr>\n",
       "    <tr>\n",
       "      <th>2</th>\n",
       "      <td>15 Min</td>\n",
       "      <td>2021-04-01 0:30</td>\n",
       "      <td>14.95</td>\n",
       "      <td>0.29</td>\n",
       "      <td>0</td>\n",
       "      <td>0.24</td>\n",
       "    </tr>\n",
       "    <tr>\n",
       "      <th>3</th>\n",
       "      <td>15 Min</td>\n",
       "      <td>2021-04-01 0:45</td>\n",
       "      <td>14.88</td>\n",
       "      <td>0.21</td>\n",
       "      <td>0</td>\n",
       "      <td>0.15</td>\n",
       "    </tr>\n",
       "    <tr>\n",
       "      <th>4</th>\n",
       "      <td>15 Min</td>\n",
       "      <td>2021-04-01 1:00</td>\n",
       "      <td>13.1</td>\n",
       "      <td>0.21</td>\n",
       "      <td>0</td>\n",
       "      <td>0.17</td>\n",
       "    </tr>\n",
       "    <tr>\n",
       "      <th>5</th>\n",
       "      <td>15 Min</td>\n",
       "      <td>2021-04-01 1:15</td>\n",
       "      <td>13.96</td>\n",
       "      <td>0.21</td>\n",
       "      <td>0</td>\n",
       "      <td>0.23</td>\n",
       "    </tr>\n",
       "  </tbody>\n",
       "</table>\n",
       "</div>"
      ],
      "text/plain": [
       "  Interval        Timestamp Flume Depth (mm) Flume Flow (L/s)  \\\n",
       "1   15 Min  2021-04-01 0:15            14.16             0.22   \n",
       "2   15 Min  2021-04-01 0:30            14.95             0.29   \n",
       "3   15 Min  2021-04-01 0:45            14.88             0.21   \n",
       "4   15 Min  2021-04-01 1:00             13.1             0.21   \n",
       "5   15 Min  2021-04-01 1:15            13.96             0.21   \n",
       "\n",
       "  Precipitation (mm) AV Flow (L/s)  \n",
       "1                  0           0.4  \n",
       "2                  0          0.24  \n",
       "3                  0          0.15  \n",
       "4                  0          0.17  \n",
       "5                  0          0.23  "
      ]
     },
     "execution_count": 2,
     "metadata": {},
     "output_type": "execute_result"
    }
   ],
   "source": [
    "headers=['Interval','Timestamp','Flume Depth (mm)','AV Flow (L/s)', 'Flume Flow (L/s)', 'Precipitation (mm)']\n",
    "df = pd.read_csv ('sani_clean.csv', names=headers)\n",
    "df=df[1:]\n",
    "# df=df.astype(float)\n",
    "df=df[['Interval','Timestamp','Flume Depth (mm)','Flume Flow (L/s)','Precipitation (mm)','AV Flow (L/s)']]\n",
    "df.head()"
   ]
  },
  {
   "cell_type": "code",
   "execution_count": 3,
   "id": "3ccc416a-cf40-4103-84fd-1cb662f0b17e",
   "metadata": {},
   "outputs": [],
   "source": [
    "# SMAPE Metric\n",
    "def smape(actual, forecast):\n",
    "    result = 1/len(actual) * np.sum(2*np.abs(forecast-actual) / (np.abs(actual) + np.abs(forecast))*100)\n",
    "    return result"
   ]
  },
  {
   "cell_type": "code",
   "execution_count": 4,
   "id": "5aecd2e1-d277-47ec-8532-1eebac961b7a",
   "metadata": {},
   "outputs": [],
   "source": [
    "def plot_predictions(actual, predicted, figsize, title):\n",
    "    \n",
    "    plt.figure(figsize=figsize)\n",
    "    actual = plt.plot(actual, color='blue', label='Actual')\n",
    "    predicted = plt.plot(predicted, color='red', label='Predicted')\n",
    "    plt.title(title)\n",
    "    plt.legend()\n",
    "    plt.savefig('XG_Train.png')\n",
    "    plt.show()"
   ]
  },
  {
   "cell_type": "code",
   "execution_count": 5,
   "id": "c26e1da5-175b-40bf-977b-a14b48c483d0",
   "metadata": {},
   "outputs": [],
   "source": [
    "# X = df[['Flume Depth (mm)','Flume Flow (L/s)','Precipitation (mm)']]\n",
    "# y = df['AV Flow (L/s)']\n",
    "# df=df[['Flume Depth (mm)','Flume Flow (L/s)','Precipitation (mm)','AV Flow (L/s)']].astype(float)\n",
    "df=df['AV Flow (L/s)'].values"
   ]
  },
  {
   "cell_type": "code",
   "execution_count": 6,
   "id": "85fe54e4-23d4-459c-b904-59a2e5665de0",
   "metadata": {},
   "outputs": [],
   "source": [
    "def create_dataset(dataset, look_back=1):\n",
    "    dataX, dataY = [], []\n",
    "    for i in range(len(dataset)-look_back-1):\n",
    "        a = dataset[i:(i+look_back), 0]\n",
    "        dataX.append(a)\n",
    "        dataY.append(dataset[i+look_back, 0])\n",
    "    return np.array(dataX), np.array(dataY)"
   ]
  },
  {
   "cell_type": "markdown",
   "id": "edae9b7e-edeb-4a6b-b4cc-0892fab792da",
   "metadata": {},
   "source": [
    "multi:softprob\n",
    "reg:squarederror"
   ]
  },
  {
   "cell_type": "code",
   "execution_count": 11,
   "id": "e7faa2ba-f4a2-4d8b-b498-e06917000c44",
   "metadata": {},
   "outputs": [],
   "source": [
    "def xgboost(data, estimators, visualize_predictions):\n",
    "    \n",
    "    # Split into training and testing\n",
    "    # train = row[:-31].values\n",
    "    # test = row[-31:].values\n",
    "    train, test = train_test_split(data, test_size=0.3, shuffle=False)\n",
    "    x_train, y_train = create_dataset(train.reshape(-1, 1))\n",
    "    x_test, y_test = create_dataset(test.reshape(-1, 1))\n",
    "    \n",
    "    model = XGBRegressor(objective='reg:squarederror', n_estimators=estimators)\n",
    "    model.fit(x_train, y_train)\n",
    "    \n",
    "    train_pred = model.predict(x_train)\n",
    "    test_pred = model.predict(x_test)\n",
    "    \n",
    "    train_error = smape(y_train, train_pred)\n",
    "    test_error = smape(y_test, test_pred)\n",
    "    \n",
    "    if visualize_predictions:\n",
    "        plot_predictions(y_train, train_pred, figsize=(15, 4), title='Training Predictions')\n",
    "        plot_predictions(y_test, test_pred, figsize=(15, 4), title='Testing Predictions')\n",
    "    \n",
    "    print(f'Train Error: {train_error} | Test Error: {test_error}')\n",
    "    \n",
    "    return model"
   ]
  },
  {
   "cell_type": "code",
   "execution_count": 12,
   "id": "5f53f759-3bb7-499f-8eb5-b7389107556d",
   "metadata": {},
   "outputs": [
    {
     "ename": "UFuncTypeError",
     "evalue": "ufunc 'subtract' did not contain a loop with signature matching types (dtype('float32'), dtype('<U4')) -> None",
     "output_type": "error",
     "traceback": [
      "\u001b[0;31m---------------------------------------------------------------------------\u001b[0m",
      "\u001b[0;31mUFuncTypeError\u001b[0m                            Traceback (most recent call last)",
      "Input \u001b[0;32mIn [12]\u001b[0m, in \u001b[0;36m<cell line: 2>\u001b[0;34m()\u001b[0m\n\u001b[1;32m      1\u001b[0m \u001b[38;5;66;03m# row_xg = df.iloc[1, :]\u001b[39;00m\n\u001b[0;32m----> 2\u001b[0m model_xgb \u001b[38;5;241m=\u001b[39m \u001b[43mxgboost\u001b[49m\u001b[43m(\u001b[49m\u001b[43mdf\u001b[49m\u001b[43m,\u001b[49m\u001b[43m \u001b[49m\u001b[38;5;241;43m2000\u001b[39;49m\u001b[43m,\u001b[49m\u001b[43m \u001b[49m\u001b[38;5;28;43;01mTrue\u001b[39;49;00m\u001b[43m)\u001b[49m\n",
      "Input \u001b[0;32mIn [11]\u001b[0m, in \u001b[0;36mxgboost\u001b[0;34m(data, estimators, visualize_predictions)\u001b[0m\n\u001b[1;32m     13\u001b[0m train_pred \u001b[38;5;241m=\u001b[39m model\u001b[38;5;241m.\u001b[39mpredict(x_train)\n\u001b[1;32m     14\u001b[0m test_pred \u001b[38;5;241m=\u001b[39m model\u001b[38;5;241m.\u001b[39mpredict(x_test)\n\u001b[0;32m---> 16\u001b[0m train_error \u001b[38;5;241m=\u001b[39m \u001b[43msmape\u001b[49m\u001b[43m(\u001b[49m\u001b[43my_train\u001b[49m\u001b[43m,\u001b[49m\u001b[43m \u001b[49m\u001b[43mtrain_pred\u001b[49m\u001b[43m)\u001b[49m\n\u001b[1;32m     17\u001b[0m test_error \u001b[38;5;241m=\u001b[39m smape(y_test, test_pred)\n\u001b[1;32m     19\u001b[0m \u001b[38;5;28;01mif\u001b[39;00m visualize_predictions:\n",
      "Input \u001b[0;32mIn [3]\u001b[0m, in \u001b[0;36msmape\u001b[0;34m(actual, forecast)\u001b[0m\n\u001b[1;32m      2\u001b[0m \u001b[38;5;28;01mdef\u001b[39;00m \u001b[38;5;21msmape\u001b[39m(actual, forecast):\n\u001b[0;32m----> 3\u001b[0m     result \u001b[38;5;241m=\u001b[39m \u001b[38;5;241m1\u001b[39m\u001b[38;5;241m/\u001b[39m\u001b[38;5;28mlen\u001b[39m(actual) \u001b[38;5;241m*\u001b[39m np\u001b[38;5;241m.\u001b[39msum(\u001b[38;5;241m2\u001b[39m\u001b[38;5;241m*\u001b[39mnp\u001b[38;5;241m.\u001b[39mabs(\u001b[43mforecast\u001b[49m\u001b[38;5;241;43m-\u001b[39;49m\u001b[43mactual\u001b[49m) \u001b[38;5;241m/\u001b[39m (np\u001b[38;5;241m.\u001b[39mabs(actual) \u001b[38;5;241m+\u001b[39m np\u001b[38;5;241m.\u001b[39mabs(forecast))\u001b[38;5;241m*\u001b[39m\u001b[38;5;241m100\u001b[39m)\n\u001b[1;32m      4\u001b[0m     \u001b[38;5;28;01mreturn\u001b[39;00m result\n",
      "\u001b[0;31mUFuncTypeError\u001b[0m: ufunc 'subtract' did not contain a loop with signature matching types (dtype('float32'), dtype('<U4')) -> None"
     ]
    }
   ],
   "source": [
    "# row_xg = df.iloc[1, :]\n",
    "model_xgb = xgboost(df, 2000, True)"
   ]
  },
  {
   "cell_type": "code",
   "execution_count": null,
   "id": "fbbd0ba5-39e0-44c5-b2f6-779cfecb3e06",
   "metadata": {},
   "outputs": [],
   "source": []
  }
 ],
 "metadata": {
  "kernelspec": {
   "display_name": "Python 3 (ipykernel)",
   "language": "python",
   "name": "python3"
  },
  "language_info": {
   "codemirror_mode": {
    "name": "ipython",
    "version": 3
   },
   "file_extension": ".py",
   "mimetype": "text/x-python",
   "name": "python",
   "nbconvert_exporter": "python",
   "pygments_lexer": "ipython3",
   "version": "3.8.12"
  }
 },
 "nbformat": 4,
 "nbformat_minor": 5
}
